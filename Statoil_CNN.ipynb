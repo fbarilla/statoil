{
 "cells": [
  {
   "cell_type": "code",
   "execution_count": 1,
   "metadata": {
    "_cell_guid": "003a34b4-ea58-413c-8ee5-dda6c041ded7",
    "_uuid": "14112d83eff81bcfed3d8b0fdf8b4fc37af7d92b"
   },
   "outputs": [
    {
     "name": "stderr",
     "output_type": "stream",
     "text": [
      "/usr/lib/python2.7/dist-packages/gtk-2.0/gtk/__init__.py:57: GtkWarning: could not open display\n",
      "  warnings.warn(str(e), _gtk.Warning)\n",
      "Using TensorFlow backend.\n"
     ]
    }
   ],
   "source": [
    "import numpy as np \n",
    "np.random.seed(666)\n",
    "import pandas as pd \n",
    "from sklearn.model_selection import train_test_split\n",
    "from subprocess import check_output\n",
    "\n",
    "from matplotlib import pyplot\n",
    "from keras.preprocessing.image import ImageDataGenerator\n",
    "from keras.models import Sequential\n",
    "from keras.layers import Conv2D, MaxPooling2D, Dense, Dropout, Input, Flatten\n",
    "from keras.layers import GlobalMaxPooling2D\n",
    "from keras.layers.normalization import BatchNormalization\n",
    "from keras.layers.merge import Concatenate\n",
    "from keras.models import Model\n",
    "from keras.optimizers import Adam\n",
    "from keras.callbacks import ModelCheckpoint, Callback, EarlyStopping\n",
    "\n",
    "import matplotlib\n",
    "import matplotlib.pyplot as plt\n",
    "import glob\n",
    "from scipy import misc\n",
    "import cv2\n",
    "from scipy import fftpack\n"
   ]
  },
  {
   "cell_type": "code",
   "execution_count": 2,
   "metadata": {
    "_cell_guid": "29a5f133-81c7-486a-82c7-5e643b648e22",
    "_uuid": "4b01d4e424cec7956507f5ac8179049bcd2f0235"
   },
   "outputs": [
    {
     "data": {
      "text/html": [
       "<div>\n",
       "<style>\n",
       "    .dataframe thead tr:only-child th {\n",
       "        text-align: right;\n",
       "    }\n",
       "\n",
       "    .dataframe thead th {\n",
       "        text-align: left;\n",
       "    }\n",
       "\n",
       "    .dataframe tbody tr th {\n",
       "        vertical-align: top;\n",
       "    }\n",
       "</style>\n",
       "<table border=\"1\" class=\"dataframe\">\n",
       "  <thead>\n",
       "    <tr style=\"text-align: right;\">\n",
       "      <th></th>\n",
       "      <th>band_1</th>\n",
       "      <th>band_2</th>\n",
       "      <th>id</th>\n",
       "      <th>inc_angle</th>\n",
       "      <th>is_iceberg</th>\n",
       "    </tr>\n",
       "  </thead>\n",
       "  <tbody>\n",
       "    <tr>\n",
       "      <th>0</th>\n",
       "      <td>[-27.878361, -27.15416, -28.668615, -29.537971...</td>\n",
       "      <td>[-27.154118, -29.537888, -31.0306, -32.190483,...</td>\n",
       "      <td>dfd5f913</td>\n",
       "      <td>43.9239</td>\n",
       "      <td>0</td>\n",
       "    </tr>\n",
       "    <tr>\n",
       "      <th>1</th>\n",
       "      <td>[-12.242375, -14.920305, -14.920363, -12.66633...</td>\n",
       "      <td>[-31.506321, -27.984554, -26.645678, -23.76760...</td>\n",
       "      <td>e25388fd</td>\n",
       "      <td>38.1562</td>\n",
       "      <td>0</td>\n",
       "    </tr>\n",
       "    <tr>\n",
       "      <th>2</th>\n",
       "      <td>[-24.603676, -24.603714, -24.871029, -23.15277...</td>\n",
       "      <td>[-24.870956, -24.092632, -20.653963, -19.41104...</td>\n",
       "      <td>58b2aaa0</td>\n",
       "      <td>45.2859</td>\n",
       "      <td>1</td>\n",
       "    </tr>\n",
       "  </tbody>\n",
       "</table>\n",
       "</div>"
      ],
      "text/plain": [
       "                                              band_1  \\\n",
       "0  [-27.878361, -27.15416, -28.668615, -29.537971...   \n",
       "1  [-12.242375, -14.920305, -14.920363, -12.66633...   \n",
       "2  [-24.603676, -24.603714, -24.871029, -23.15277...   \n",
       "\n",
       "                                              band_2        id inc_angle  \\\n",
       "0  [-27.154118, -29.537888, -31.0306, -32.190483,...  dfd5f913   43.9239   \n",
       "1  [-31.506321, -27.984554, -26.645678, -23.76760...  e25388fd   38.1562   \n",
       "2  [-24.870956, -24.092632, -20.653963, -19.41104...  58b2aaa0   45.2859   \n",
       "\n",
       "   is_iceberg  \n",
       "0           0  \n",
       "1           0  \n",
       "2           1  "
      ]
     },
     "execution_count": 2,
     "metadata": {},
     "output_type": "execute_result"
    }
   ],
   "source": [
    "#Load data\n",
    "train = pd.read_json(\"./train.json\")\n",
    "test = pd.read_json(\"./test.json\")\n",
    "\n",
    "train.head(3)"
   ]
  },
  {
   "cell_type": "code",
   "execution_count": 3,
   "metadata": {
    "collapsed": true
   },
   "outputs": [],
   "source": [
    "def denoise(img, weight=0.1, eps=1e-3, num_iter_max=200):\n",
    "    u = np.zeros_like(img)\n",
    "    px = np.zeros_like(img)\n",
    "    py = np.zeros_like(img)\n",
    "    \n",
    "    nm = np.prod(img.shape[:2])\n",
    "    tau = 0.125\n",
    "    \n",
    "    i = 0\n",
    "    while i < num_iter_max:\n",
    "        u_old = u\n",
    "        \n",
    "        # x and y components of u's gradient\n",
    "        ux = np.roll(u, -1, axis=1) - u\n",
    "        uy = np.roll(u, -1, axis=0) - u\n",
    "        \n",
    "        # update the dual variable\n",
    "        px_new = px + (tau / weight) * ux\n",
    "        py_new = py + (tau / weight) * uy\n",
    "        norm_new = np.maximum(1, np.sqrt(px_new **2 + py_new ** 2))\n",
    "        px = px_new / norm_new\n",
    "        py = py_new / norm_new\n",
    "\n",
    "        # calculate divergence\n",
    "        rx = np.roll(px, 1, axis=1)\n",
    "        ry = np.roll(py, 1, axis=0)\n",
    "        div_p = (px - rx) + (py - ry)\n",
    "        \n",
    "        # update image\n",
    "        u = img + weight * div_p\n",
    "        \n",
    "        # calculate error\n",
    "        error = np.linalg.norm(u - u_old) / np.sqrt(nm)\n",
    "        \n",
    "        if i == 0:\n",
    "            err_init = error\n",
    "            err_prev = error\n",
    "        else:\n",
    "            # break if error small enough\n",
    "            if np.abs(err_prev - error) < eps * err_init:\n",
    "                break\n",
    "            else:\n",
    "                e_prev = error\n",
    "                \n",
    "        # don't forget to update iterator\n",
    "        i += 1\n",
    "\n",
    "    return u"
   ]
  },
  {
   "cell_type": "markdown",
   "metadata": {},
   "source": [
    "## Build datasets"
   ]
  },
  {
   "cell_type": "code",
   "execution_count": 4,
   "metadata": {
    "_cell_guid": "2a419a87-0630-4794-8e5b-dff560d2d116",
    "_uuid": "b2eb784dbc8a40a145c5cdad2f6ca929e165ce95"
   },
   "outputs": [
    {
     "name": "stderr",
     "output_type": "stream",
     "text": [
      "/usr/local/lib/python2.7/dist-packages/sklearn/model_selection/_split.py:2026: FutureWarning: From version 0.21, test_size will always complement train_size unless both are specified.\n",
      "  FutureWarning)\n"
     ]
    }
   ],
   "source": [
    "mode = 'denoise'  # could be 'normal' or 'denoise'\n",
    "denoise_weight = 1  # from 1 to 10\n",
    "\n",
    "## For testing purposes \n",
    "#for band in train[\"band_1\"]:\n",
    "#    print len(band)\n",
    "#    print (np.array(band).astype(np.float32).reshape(75, 75)).shape\n",
    "#    print (denoise(np.array(band).astype(np.float32).reshape(75, 75), weight=10)).shape\n",
    "#    break\n",
    "    \n",
    "# Train data\n",
    "if(mode == 'normal'):\n",
    "    x_band1 = np.array([np.array(band).astype(np.float32).reshape(75, 75) for band in train[\"band_1\"]])\n",
    "    x_band2 = np.array([np.array(band).astype(np.float32).reshape(75, 75) for band in train[\"band_2\"]])\n",
    "else: # denoise\n",
    "    x_band1 = np.array([denoise(np.array(band).astype(np.float32).reshape(75, 75), weight=denoise_weight) for band in train[\"band_1\"]])\n",
    "    x_band2 = np.array([denoise(np.array(band).astype(np.float32).reshape(75, 75), weight=denoise_weight) for band in train[\"band_2\"]])   \n",
    "X_train = np.concatenate([x_band1[:, :, :, np.newaxis]\n",
    "                          , x_band2[:, :, :, np.newaxis]\n",
    "                         , ((x_band1+x_band1)/2)[:, :, :, np.newaxis]], axis=-1)\n",
    "y_train = np.array(train[\"is_iceberg\"])\n",
    "\n",
    "# Test data\n",
    "if(mode == 'normal'):\n",
    "    x_band1 = np.array([np.array(band).astype(np.float32).reshape(75, 75) for band in test[\"band_1\"]])\n",
    "    x_band2 = np.array([np.array(band).astype(np.float32).reshape(75, 75) for band in test[\"band_2\"]])\n",
    "else:   # denoise\n",
    "    x_band1 = np.array([denoise(np.array(band).astype(np.float32).reshape(75, 75), weight=denoise_weight) for band in test[\"band_1\"]])\n",
    "    x_band2 = np.array([denoise(np.array(band).astype(np.float32).reshape(75, 75), weight=denoise_weight) for band in test[\"band_2\"]])\n",
    "    \n",
    "\n",
    "X_test = np.concatenate([x_band1[:, :, :, np.newaxis]\n",
    "                          , x_band2[:, :, :, np.newaxis]\n",
    "                         , ((x_band1+x_band1)/2)[:, :, :, np.newaxis]], axis=-1)\n",
    "\n",
    "X_train, X_valid, y_train, y_valid = train_test_split(X_train\n",
    "                    ,  y_train, random_state=123, train_size=0.75)\n"
   ]
  },
  {
   "cell_type": "code",
   "execution_count": 5,
   "metadata": {
    "_cell_guid": "48694991-a0af-4e4a-86c9-9e6a106ac21d",
    "_uuid": "d5787df36f2640ba2ae57dad49dc78b7c2a8f8b3",
    "collapsed": true
   },
   "outputs": [],
   "source": [
    "def get_callbacks(filepath, patience=2):\n",
    "    es = EarlyStopping('val_loss', patience=patience, mode=\"min\")\n",
    "    msave = ModelCheckpoint(filepath, save_best_only=True)\n",
    "    return [es, msave]\n",
    "    \n",
    "def get_model():\n",
    "    bn_model = 0\n",
    "    p_activation = \"elu\"\n",
    "    input_1 = Input(shape=(75, 75, 3), name=\"X_1\")\n",
    "    \n",
    "    img_1 = Conv2D(16, kernel_size = (3,3), activation=p_activation) ((BatchNormalization(momentum=bn_model))(input_1))\n",
    "    img_1 = Conv2D(16, kernel_size = (3,3), activation=p_activation) (img_1)\n",
    "    img_1 = MaxPooling2D((2,2)) (img_1)\n",
    "    img_1 = Dropout(0.2)(img_1)\n",
    "    img_1 = Conv2D(32, kernel_size = (3,3), activation=p_activation) (img_1)\n",
    "    img_1 = Conv2D(32, kernel_size = (3,3), activation=p_activation) (img_1)\n",
    "    img_1 = MaxPooling2D((2,2)) (img_1)\n",
    "    img_1 = Dropout(0.2)(img_1)\n",
    "    img_1 = Conv2D(64, kernel_size = (3,3), activation=p_activation) (img_1)\n",
    "    img_1 = Conv2D(64, kernel_size = (3,3), activation=p_activation) (img_1)\n",
    "    img_1 = MaxPooling2D((2,2)) (img_1)\n",
    "    img_1 = Dropout(0.2)(img_1)\n",
    "    img_1 = Conv2D(128, kernel_size = (3,3), activation=p_activation) (img_1)\n",
    "    img_1 = MaxPooling2D((2,2)) (img_1)\n",
    "    img_1 = Dropout(0.2)(img_1)\n",
    "    img_1 = GlobalMaxPooling2D() (img_1)\n",
    "\n",
    "    dense_layer = Dropout(0.5) (BatchNormalization(momentum=bn_model) ( Dense(256, activation=p_activation)(img_1) ))\n",
    "    \n",
    "    dense_layer = Dropout(0.5) (BatchNormalization(momentum=bn_model) ( Dense(64, activation=p_activation)(dense_layer) ))\n",
    "    output = Dense(1, activation=\"sigmoid\")(dense_layer)\n",
    "    \n",
    "    model = Model([input_1],  output)\n",
    "    optimizer = Adam(lr=0.001, beta_1=0.9, beta_2=0.999, epsilon=1e-08, decay=0.0)\n",
    "    model.compile(loss=\"binary_crossentropy\", optimizer=optimizer,  metrics=['accuracy'])\n",
    "    return model\n",
    "model = get_model()\n",
    "# model.summary()"
   ]
  },
  {
   "cell_type": "code",
   "execution_count": 6,
   "metadata": {
    "_cell_guid": "ed3d20e2-9cd3-4aad-9664-c7f3c485cc1e",
    "_uuid": "7397f8e25535660a8149786218f0cc54070ddb7b"
   },
   "outputs": [
    {
     "name": "stdout",
     "output_type": "stream",
     "text": [
      "Train on 1203 samples, validate on 401 samples\n",
      "Epoch 1/50\n",
      "1203/1203 [==============================] - 5s - loss: 0.9127 - acc: 0.5503 - val_loss: 0.6872 - val_acc: 0.6160\n",
      "Epoch 2/50\n",
      "1203/1203 [==============================] - 1s - loss: 0.7335 - acc: 0.6293 - val_loss: 0.5366 - val_acc: 0.7032\n",
      "Epoch 3/50\n",
      "1203/1203 [==============================] - 1s - loss: 0.6362 - acc: 0.6833 - val_loss: 0.4408 - val_acc: 0.7830\n",
      "Epoch 4/50\n",
      "1203/1203 [==============================] - 1s - loss: 0.5326 - acc: 0.7465 - val_loss: 0.4667 - val_acc: 0.7805\n",
      "Epoch 5/50\n",
      "1203/1203 [==============================] - 1s - loss: 0.4642 - acc: 0.7847 - val_loss: 0.5258 - val_acc: 0.8005\n",
      "Epoch 6/50\n",
      "1203/1203 [==============================] - 1s - loss: 0.4132 - acc: 0.8047 - val_loss: 0.4100 - val_acc: 0.8105\n",
      "Epoch 7/50\n",
      "1203/1203 [==============================] - 1s - loss: 0.3775 - acc: 0.8254 - val_loss: 0.3476 - val_acc: 0.8504\n",
      "Epoch 8/50\n",
      "1203/1203 [==============================] - 1s - loss: 0.3659 - acc: 0.8404 - val_loss: 0.4981 - val_acc: 0.8105\n",
      "Epoch 9/50\n",
      "1203/1203 [==============================] - 1s - loss: 0.3251 - acc: 0.8587 - val_loss: 0.4459 - val_acc: 0.8180\n",
      "Epoch 10/50\n",
      "1203/1203 [==============================] - 1s - loss: 0.3248 - acc: 0.8462 - val_loss: 0.3563 - val_acc: 0.8529\n",
      "Epoch 11/50\n",
      "1203/1203 [==============================] - 1s - loss: 0.3338 - acc: 0.8570 - val_loss: 0.3238 - val_acc: 0.8529\n",
      "Epoch 12/50\n",
      "1203/1203 [==============================] - 1s - loss: 0.3123 - acc: 0.8495 - val_loss: 0.3647 - val_acc: 0.8454\n",
      "Epoch 13/50\n",
      "1203/1203 [==============================] - 1s - loss: 0.2959 - acc: 0.8653 - val_loss: 0.3769 - val_acc: 0.8554\n",
      "Epoch 14/50\n",
      "1203/1203 [==============================] - 1s - loss: 0.2833 - acc: 0.8778 - val_loss: 0.2701 - val_acc: 0.9027\n",
      "Epoch 15/50\n",
      "1203/1203 [==============================] - 1s - loss: 0.2811 - acc: 0.8695 - val_loss: 0.3129 - val_acc: 0.8653\n",
      "Epoch 16/50\n",
      "1203/1203 [==============================] - 1s - loss: 0.2647 - acc: 0.8903 - val_loss: 0.4284 - val_acc: 0.8479\n",
      "Epoch 17/50\n",
      "1203/1203 [==============================] - 1s - loss: 0.2483 - acc: 0.8969 - val_loss: 0.3751 - val_acc: 0.8529\n",
      "Epoch 18/50\n",
      "1203/1203 [==============================] - 1s - loss: 0.2325 - acc: 0.9061 - val_loss: 0.8391 - val_acc: 0.7556\n",
      "Epoch 19/50\n",
      "1203/1203 [==============================] - 1s - loss: 0.2324 - acc: 0.9027 - val_loss: 0.5618 - val_acc: 0.7955\n",
      "Epoch 20/50\n",
      "1203/1203 [==============================] - 1s - loss: 0.2247 - acc: 0.9111 - val_loss: 0.3257 - val_acc: 0.8653\n"
     ]
    },
    {
     "data": {
      "text/plain": [
       "<keras.callbacks.History at 0x3ffec2c5bc90>"
      ]
     },
     "execution_count": 6,
     "metadata": {},
     "output_type": "execute_result"
    }
   ],
   "source": [
    "file_path = \".model_weights.hdf5\"\n",
    "callbacks = get_callbacks(filepath=file_path, patience=5)\n",
    "\n",
    "model = get_model()\n",
    "model.fit([X_train], y_train, epochs=50\n",
    "          , validation_data=([X_valid], y_valid)\n",
    "         , batch_size=32\n",
    "         , callbacks=callbacks)"
   ]
  },
  {
   "cell_type": "code",
   "execution_count": 7,
   "metadata": {
    "_cell_guid": "aacdccc7-760d-4433-8a6f-554d357722fd",
    "_uuid": "f16cda9020fb9e07cb3325ba05061b786e603626"
   },
   "outputs": [
    {
     "name": "stdout",
     "output_type": "stream",
     "text": [
      "Train evaluate:\n"
     ]
    },
    {
     "ename": "ResourceExhaustedError",
     "evalue": "OOM when allocating tensor with shape[200,16,73,73]\n\t [[Node: conv2d_9/convolution = Conv2D[T=DT_FLOAT, data_format=\"NHWC\", padding=\"VALID\", strides=[1, 1, 1, 1], use_cudnn_on_gpu=true, _device=\"/job:localhost/replica:0/task:0/gpu:0\"](conv2d_8/Elu, conv2d_9/kernel/read)]]\n\t [[Node: batch_normalization_6/moments/sufficient_statistics/Gather/_119 = _Recv[client_terminated=false, recv_device=\"/job:localhost/replica:0/task:0/cpu:0\", send_device=\"/job:localhost/replica:0/task:0/gpu:0\", send_device_incarnation=1, tensor_name=\"edge_436_batch_normalization_6/moments/sufficient_statistics/Gather\", tensor_type=DT_FLOAT, _device=\"/job:localhost/replica:0/task:0/cpu:0\"]()]]\n\nCaused by op u'conv2d_9/convolution', defined at:\n  File \"/usr/lib/python2.7/runpy.py\", line 174, in _run_module_as_main\n    \"__main__\", fname, loader, pkg_name)\n  File \"/usr/lib/python2.7/runpy.py\", line 72, in _run_code\n    exec code in run_globals\n  File \"/usr/local/lib/python2.7/dist-packages/ipykernel_launcher.py\", line 16, in <module>\n    app.launch_new_instance()\n  File \"/usr/local/lib/python2.7/dist-packages/traitlets/config/application.py\", line 658, in launch_instance\n    app.start()\n  File \"/usr/local/lib/python2.7/dist-packages/ipykernel/kernelapp.py\", line 477, in start\n    ioloop.IOLoop.instance().start()\n  File \"/usr/lib/python2.7/dist-packages/zmq/eventloop/ioloop.py\", line 162, in start\n    super(ZMQIOLoop, self).start()\n  File \"/usr/local/lib/python2.7/dist-packages/tornado/ioloop.py\", line 888, in start\n    handler_func(fd_obj, events)\n  File \"/usr/local/lib/python2.7/dist-packages/tornado/stack_context.py\", line 277, in null_wrapper\n    return fn(*args, **kwargs)\n  File \"/usr/lib/python2.7/dist-packages/zmq/eventloop/zmqstream.py\", line 440, in _handle_events\n    self._handle_recv()\n  File \"/usr/lib/python2.7/dist-packages/zmq/eventloop/zmqstream.py\", line 472, in _handle_recv\n    self._run_callback(callback, msg)\n  File \"/usr/lib/python2.7/dist-packages/zmq/eventloop/zmqstream.py\", line 414, in _run_callback\n    callback(*args, **kwargs)\n  File \"/usr/local/lib/python2.7/dist-packages/tornado/stack_context.py\", line 277, in null_wrapper\n    return fn(*args, **kwargs)\n  File \"/usr/local/lib/python2.7/dist-packages/ipykernel/kernelbase.py\", line 283, in dispatcher\n    return self.dispatch_shell(stream, msg)\n  File \"/usr/local/lib/python2.7/dist-packages/ipykernel/kernelbase.py\", line 235, in dispatch_shell\n    handler(stream, idents, msg)\n  File \"/usr/local/lib/python2.7/dist-packages/ipykernel/kernelbase.py\", line 399, in execute_request\n    user_expressions, allow_stdin)\n  File \"/usr/local/lib/python2.7/dist-packages/ipykernel/ipkernel.py\", line 196, in do_execute\n    res = shell.run_cell(code, store_history=store_history, silent=silent)\n  File \"/usr/local/lib/python2.7/dist-packages/ipykernel/zmqshell.py\", line 533, in run_cell\n    return super(ZMQInteractiveShell, self).run_cell(*args, **kwargs)\n  File \"/usr/local/lib/python2.7/dist-packages/IPython/core/interactiveshell.py\", line 2717, in run_cell\n    interactivity=interactivity, compiler=compiler, result=result)\n  File \"/usr/local/lib/python2.7/dist-packages/IPython/core/interactiveshell.py\", line 2821, in run_ast_nodes\n    if self.run_code(code, result):\n  File \"/usr/local/lib/python2.7/dist-packages/IPython/core/interactiveshell.py\", line 2881, in run_code\n    exec(code_obj, self.user_global_ns, self.user_ns)\n  File \"<ipython-input-6-b6b91455c4d3>\", line 4, in <module>\n    model = get_model()\n  File \"<ipython-input-5-071ad864e3c0>\", line 12, in get_model\n    img_1 = Conv2D(16, kernel_size = (3,3), activation=p_activation) (img_1)\n  File \"/usr/local/lib/python2.7/dist-packages/keras/engine/topology.py\", line 596, in __call__\n    output = self.call(inputs, **kwargs)\n  File \"/usr/local/lib/python2.7/dist-packages/keras/layers/convolutional.py\", line 164, in call\n    dilation_rate=self.dilation_rate)\n  File \"/usr/local/lib/python2.7/dist-packages/keras/backend/tensorflow_backend.py\", line 3138, in conv2d\n    data_format='NHWC')\n  File \"/opt/DL/tensorflow/lib/python2.7/site-packages/tensorflow/python/ops/nn_ops.py\", line 661, in convolution\n    op=op)\n  File \"/opt/DL/tensorflow/lib/python2.7/site-packages/tensorflow/python/ops/nn_ops.py\", line 331, in with_space_to_batch\n    return op(input, num_spatial_dims, padding)\n  File \"/opt/DL/tensorflow/lib/python2.7/site-packages/tensorflow/python/ops/nn_ops.py\", line 653, in op\n    name=name)\n  File \"/opt/DL/tensorflow/lib/python2.7/site-packages/tensorflow/python/ops/nn_ops.py\", line 129, in _non_atrous_convolution\n    name=name)\n  File \"/opt/DL/tensorflow/lib/python2.7/site-packages/tensorflow/python/ops/gen_nn_ops.py\", line 403, in conv2d\n    data_format=data_format, name=name)\n  File \"/opt/DL/tensorflow/lib/python2.7/site-packages/tensorflow/python/framework/op_def_library.py\", line 768, in apply_op\n    op_def=op_def)\n  File \"/opt/DL/tensorflow/lib/python2.7/site-packages/tensorflow/python/framework/ops.py\", line 2336, in create_op\n    original_op=self._default_original_op, op_def=op_def)\n  File \"/opt/DL/tensorflow/lib/python2.7/site-packages/tensorflow/python/framework/ops.py\", line 1228, in __init__\n    self._traceback = _extract_stack()\n\nResourceExhaustedError (see above for traceback): OOM when allocating tensor with shape[200,16,73,73]\n\t [[Node: conv2d_9/convolution = Conv2D[T=DT_FLOAT, data_format=\"NHWC\", padding=\"VALID\", strides=[1, 1, 1, 1], use_cudnn_on_gpu=true, _device=\"/job:localhost/replica:0/task:0/gpu:0\"](conv2d_8/Elu, conv2d_9/kernel/read)]]\n\t [[Node: batch_normalization_6/moments/sufficient_statistics/Gather/_119 = _Recv[client_terminated=false, recv_device=\"/job:localhost/replica:0/task:0/cpu:0\", send_device=\"/job:localhost/replica:0/task:0/gpu:0\", send_device_incarnation=1, tensor_name=\"edge_436_batch_normalization_6/moments/sufficient_statistics/Gather\", tensor_type=DT_FLOAT, _device=\"/job:localhost/replica:0/task:0/cpu:0\"]()]]\n",
     "output_type": "error",
     "traceback": [
      "\u001b[0;31m---------------------------------------------------------------------------\u001b[0m",
      "\u001b[0;31mResourceExhaustedError\u001b[0m                    Traceback (most recent call last)",
      "\u001b[0;32m<ipython-input-7-8f3d1b130a8f>\u001b[0m in \u001b[0;36m<module>\u001b[0;34m()\u001b[0m\n\u001b[1;32m      2\u001b[0m \u001b[0;34m\u001b[0m\u001b[0m\n\u001b[1;32m      3\u001b[0m \u001b[0;32mprint\u001b[0m\u001b[0;34m(\u001b[0m\u001b[0;34m\"Train evaluate:\"\u001b[0m\u001b[0;34m)\u001b[0m\u001b[0;34m\u001b[0m\u001b[0m\n\u001b[0;32m----> 4\u001b[0;31m \u001b[0macc1\u001b[0m \u001b[0;34m=\u001b[0m \u001b[0mmodel\u001b[0m\u001b[0;34m.\u001b[0m\u001b[0mevaluate\u001b[0m\u001b[0;34m(\u001b[0m\u001b[0;34m[\u001b[0m\u001b[0mX_train\u001b[0m\u001b[0;34m]\u001b[0m\u001b[0;34m,\u001b[0m \u001b[0my_train\u001b[0m\u001b[0;34m,\u001b[0m \u001b[0mverbose\u001b[0m\u001b[0;34m=\u001b[0m\u001b[0;36m0\u001b[0m\u001b[0;34m,\u001b[0m \u001b[0mbatch_size\u001b[0m\u001b[0;34m=\u001b[0m\u001b[0;36m200\u001b[0m\u001b[0;34m)\u001b[0m\u001b[0;34m\u001b[0m\u001b[0m\n\u001b[0m\u001b[1;32m      5\u001b[0m \u001b[0;32mprint\u001b[0m\u001b[0;34m(\u001b[0m\u001b[0macc1\u001b[0m\u001b[0;34m)\u001b[0m\u001b[0;34m\u001b[0m\u001b[0m\n\u001b[1;32m      6\u001b[0m \u001b[0;32mprint\u001b[0m\u001b[0;34m(\u001b[0m\u001b[0;34m\"-------------------------------\"\u001b[0m\u001b[0;34m)\u001b[0m\u001b[0;34m\u001b[0m\u001b[0m\n",
      "\u001b[0;32m/usr/local/lib/python2.7/dist-packages/keras/engine/training.pyc\u001b[0m in \u001b[0;36mevaluate\u001b[0;34m(self, x, y, batch_size, verbose, sample_weight)\u001b[0m\n\u001b[1;32m   1549\u001b[0m         return self._test_loop(f, ins,\n\u001b[1;32m   1550\u001b[0m                                \u001b[0mbatch_size\u001b[0m\u001b[0;34m=\u001b[0m\u001b[0mbatch_size\u001b[0m\u001b[0;34m,\u001b[0m\u001b[0;34m\u001b[0m\u001b[0m\n\u001b[0;32m-> 1551\u001b[0;31m                                verbose=verbose)\n\u001b[0m\u001b[1;32m   1552\u001b[0m \u001b[0;34m\u001b[0m\u001b[0m\n\u001b[1;32m   1553\u001b[0m     \u001b[0;32mdef\u001b[0m \u001b[0mpredict\u001b[0m\u001b[0;34m(\u001b[0m\u001b[0mself\u001b[0m\u001b[0;34m,\u001b[0m \u001b[0mx\u001b[0m\u001b[0;34m,\u001b[0m \u001b[0mbatch_size\u001b[0m\u001b[0;34m=\u001b[0m\u001b[0;36m32\u001b[0m\u001b[0;34m,\u001b[0m \u001b[0mverbose\u001b[0m\u001b[0;34m=\u001b[0m\u001b[0;36m0\u001b[0m\u001b[0;34m)\u001b[0m\u001b[0;34m:\u001b[0m\u001b[0;34m\u001b[0m\u001b[0m\n",
      "\u001b[0;32m/usr/local/lib/python2.7/dist-packages/keras/engine/training.pyc\u001b[0m in \u001b[0;36m_test_loop\u001b[0;34m(self, f, ins, batch_size, verbose)\u001b[0m\n\u001b[1;32m   1270\u001b[0m                 \u001b[0mins_batch\u001b[0m \u001b[0;34m=\u001b[0m \u001b[0m_slice_arrays\u001b[0m\u001b[0;34m(\u001b[0m\u001b[0mins\u001b[0m\u001b[0;34m,\u001b[0m \u001b[0mbatch_ids\u001b[0m\u001b[0;34m)\u001b[0m\u001b[0;34m\u001b[0m\u001b[0m\n\u001b[1;32m   1271\u001b[0m \u001b[0;34m\u001b[0m\u001b[0m\n\u001b[0;32m-> 1272\u001b[0;31m             \u001b[0mbatch_outs\u001b[0m \u001b[0;34m=\u001b[0m \u001b[0mf\u001b[0m\u001b[0;34m(\u001b[0m\u001b[0mins_batch\u001b[0m\u001b[0;34m)\u001b[0m\u001b[0;34m\u001b[0m\u001b[0m\n\u001b[0m\u001b[1;32m   1273\u001b[0m             \u001b[0;32mif\u001b[0m \u001b[0misinstance\u001b[0m\u001b[0;34m(\u001b[0m\u001b[0mbatch_outs\u001b[0m\u001b[0;34m,\u001b[0m \u001b[0mlist\u001b[0m\u001b[0;34m)\u001b[0m\u001b[0;34m:\u001b[0m\u001b[0;34m\u001b[0m\u001b[0m\n\u001b[1;32m   1274\u001b[0m                 \u001b[0;32mif\u001b[0m \u001b[0mbatch_index\u001b[0m \u001b[0;34m==\u001b[0m \u001b[0;36m0\u001b[0m\u001b[0;34m:\u001b[0m\u001b[0;34m\u001b[0m\u001b[0m\n",
      "\u001b[0;32m/usr/local/lib/python2.7/dist-packages/keras/backend/tensorflow_backend.pyc\u001b[0m in \u001b[0;36m__call__\u001b[0;34m(self, inputs)\u001b[0m\n\u001b[1;32m   2267\u001b[0m         updated = session.run(self.outputs + [self.updates_op],\n\u001b[1;32m   2268\u001b[0m                               \u001b[0mfeed_dict\u001b[0m\u001b[0;34m=\u001b[0m\u001b[0mfeed_dict\u001b[0m\u001b[0;34m,\u001b[0m\u001b[0;34m\u001b[0m\u001b[0m\n\u001b[0;32m-> 2269\u001b[0;31m                               **self.session_kwargs)\n\u001b[0m\u001b[1;32m   2270\u001b[0m         \u001b[0;32mreturn\u001b[0m \u001b[0mupdated\u001b[0m\u001b[0;34m[\u001b[0m\u001b[0;34m:\u001b[0m\u001b[0mlen\u001b[0m\u001b[0;34m(\u001b[0m\u001b[0mself\u001b[0m\u001b[0;34m.\u001b[0m\u001b[0moutputs\u001b[0m\u001b[0;34m)\u001b[0m\u001b[0;34m]\u001b[0m\u001b[0;34m\u001b[0m\u001b[0m\n\u001b[1;32m   2271\u001b[0m \u001b[0;34m\u001b[0m\u001b[0m\n",
      "\u001b[0;32m/opt/DL/tensorflow/lib/python2.7/site-packages/tensorflow/python/client/session.pyc\u001b[0m in \u001b[0;36mrun\u001b[0;34m(self, fetches, feed_dict, options, run_metadata)\u001b[0m\n\u001b[1;32m    776\u001b[0m     \u001b[0;32mtry\u001b[0m\u001b[0;34m:\u001b[0m\u001b[0;34m\u001b[0m\u001b[0m\n\u001b[1;32m    777\u001b[0m       result = self._run(None, fetches, feed_dict, options_ptr,\n\u001b[0;32m--> 778\u001b[0;31m                          run_metadata_ptr)\n\u001b[0m\u001b[1;32m    779\u001b[0m       \u001b[0;32mif\u001b[0m \u001b[0mrun_metadata\u001b[0m\u001b[0;34m:\u001b[0m\u001b[0;34m\u001b[0m\u001b[0m\n\u001b[1;32m    780\u001b[0m         \u001b[0mproto_data\u001b[0m \u001b[0;34m=\u001b[0m \u001b[0mtf_session\u001b[0m\u001b[0;34m.\u001b[0m\u001b[0mTF_GetBuffer\u001b[0m\u001b[0;34m(\u001b[0m\u001b[0mrun_metadata_ptr\u001b[0m\u001b[0;34m)\u001b[0m\u001b[0;34m\u001b[0m\u001b[0m\n",
      "\u001b[0;32m/opt/DL/tensorflow/lib/python2.7/site-packages/tensorflow/python/client/session.pyc\u001b[0m in \u001b[0;36m_run\u001b[0;34m(self, handle, fetches, feed_dict, options, run_metadata)\u001b[0m\n\u001b[1;32m    980\u001b[0m     \u001b[0;32mif\u001b[0m \u001b[0mfinal_fetches\u001b[0m \u001b[0;32mor\u001b[0m \u001b[0mfinal_targets\u001b[0m\u001b[0;34m:\u001b[0m\u001b[0;34m\u001b[0m\u001b[0m\n\u001b[1;32m    981\u001b[0m       results = self._do_run(handle, final_targets, final_fetches,\n\u001b[0;32m--> 982\u001b[0;31m                              feed_dict_string, options, run_metadata)\n\u001b[0m\u001b[1;32m    983\u001b[0m     \u001b[0;32melse\u001b[0m\u001b[0;34m:\u001b[0m\u001b[0;34m\u001b[0m\u001b[0m\n\u001b[1;32m    984\u001b[0m       \u001b[0mresults\u001b[0m \u001b[0;34m=\u001b[0m \u001b[0;34m[\u001b[0m\u001b[0;34m]\u001b[0m\u001b[0;34m\u001b[0m\u001b[0m\n",
      "\u001b[0;32m/opt/DL/tensorflow/lib/python2.7/site-packages/tensorflow/python/client/session.pyc\u001b[0m in \u001b[0;36m_do_run\u001b[0;34m(self, handle, target_list, fetch_list, feed_dict, options, run_metadata)\u001b[0m\n\u001b[1;32m   1030\u001b[0m     \u001b[0;32mif\u001b[0m \u001b[0mhandle\u001b[0m \u001b[0;32mis\u001b[0m \u001b[0mNone\u001b[0m\u001b[0;34m:\u001b[0m\u001b[0;34m\u001b[0m\u001b[0m\n\u001b[1;32m   1031\u001b[0m       return self._do_call(_run_fn, self._session, feed_dict, fetch_list,\n\u001b[0;32m-> 1032\u001b[0;31m                            target_list, options, run_metadata)\n\u001b[0m\u001b[1;32m   1033\u001b[0m     \u001b[0;32melse\u001b[0m\u001b[0;34m:\u001b[0m\u001b[0;34m\u001b[0m\u001b[0m\n\u001b[1;32m   1034\u001b[0m       return self._do_call(_prun_fn, self._session, handle, feed_dict,\n",
      "\u001b[0;32m/opt/DL/tensorflow/lib/python2.7/site-packages/tensorflow/python/client/session.pyc\u001b[0m in \u001b[0;36m_do_call\u001b[0;34m(self, fn, *args)\u001b[0m\n\u001b[1;32m   1050\u001b[0m         \u001b[0;32mexcept\u001b[0m \u001b[0mKeyError\u001b[0m\u001b[0;34m:\u001b[0m\u001b[0;34m\u001b[0m\u001b[0m\n\u001b[1;32m   1051\u001b[0m           \u001b[0;32mpass\u001b[0m\u001b[0;34m\u001b[0m\u001b[0m\n\u001b[0;32m-> 1052\u001b[0;31m       \u001b[0;32mraise\u001b[0m \u001b[0mtype\u001b[0m\u001b[0;34m(\u001b[0m\u001b[0me\u001b[0m\u001b[0;34m)\u001b[0m\u001b[0;34m(\u001b[0m\u001b[0mnode_def\u001b[0m\u001b[0;34m,\u001b[0m \u001b[0mop\u001b[0m\u001b[0;34m,\u001b[0m \u001b[0mmessage\u001b[0m\u001b[0;34m)\u001b[0m\u001b[0;34m\u001b[0m\u001b[0m\n\u001b[0m\u001b[1;32m   1053\u001b[0m \u001b[0;34m\u001b[0m\u001b[0m\n\u001b[1;32m   1054\u001b[0m   \u001b[0;32mdef\u001b[0m \u001b[0m_extend_graph\u001b[0m\u001b[0;34m(\u001b[0m\u001b[0mself\u001b[0m\u001b[0;34m)\u001b[0m\u001b[0;34m:\u001b[0m\u001b[0;34m\u001b[0m\u001b[0m\n",
      "\u001b[0;31mResourceExhaustedError\u001b[0m: OOM when allocating tensor with shape[200,16,73,73]\n\t [[Node: conv2d_9/convolution = Conv2D[T=DT_FLOAT, data_format=\"NHWC\", padding=\"VALID\", strides=[1, 1, 1, 1], use_cudnn_on_gpu=true, _device=\"/job:localhost/replica:0/task:0/gpu:0\"](conv2d_8/Elu, conv2d_9/kernel/read)]]\n\t [[Node: batch_normalization_6/moments/sufficient_statistics/Gather/_119 = _Recv[client_terminated=false, recv_device=\"/job:localhost/replica:0/task:0/cpu:0\", send_device=\"/job:localhost/replica:0/task:0/gpu:0\", send_device_incarnation=1, tensor_name=\"edge_436_batch_normalization_6/moments/sufficient_statistics/Gather\", tensor_type=DT_FLOAT, _device=\"/job:localhost/replica:0/task:0/cpu:0\"]()]]\n\nCaused by op u'conv2d_9/convolution', defined at:\n  File \"/usr/lib/python2.7/runpy.py\", line 174, in _run_module_as_main\n    \"__main__\", fname, loader, pkg_name)\n  File \"/usr/lib/python2.7/runpy.py\", line 72, in _run_code\n    exec code in run_globals\n  File \"/usr/local/lib/python2.7/dist-packages/ipykernel_launcher.py\", line 16, in <module>\n    app.launch_new_instance()\n  File \"/usr/local/lib/python2.7/dist-packages/traitlets/config/application.py\", line 658, in launch_instance\n    app.start()\n  File \"/usr/local/lib/python2.7/dist-packages/ipykernel/kernelapp.py\", line 477, in start\n    ioloop.IOLoop.instance().start()\n  File \"/usr/lib/python2.7/dist-packages/zmq/eventloop/ioloop.py\", line 162, in start\n    super(ZMQIOLoop, self).start()\n  File \"/usr/local/lib/python2.7/dist-packages/tornado/ioloop.py\", line 888, in start\n    handler_func(fd_obj, events)\n  File \"/usr/local/lib/python2.7/dist-packages/tornado/stack_context.py\", line 277, in null_wrapper\n    return fn(*args, **kwargs)\n  File \"/usr/lib/python2.7/dist-packages/zmq/eventloop/zmqstream.py\", line 440, in _handle_events\n    self._handle_recv()\n  File \"/usr/lib/python2.7/dist-packages/zmq/eventloop/zmqstream.py\", line 472, in _handle_recv\n    self._run_callback(callback, msg)\n  File \"/usr/lib/python2.7/dist-packages/zmq/eventloop/zmqstream.py\", line 414, in _run_callback\n    callback(*args, **kwargs)\n  File \"/usr/local/lib/python2.7/dist-packages/tornado/stack_context.py\", line 277, in null_wrapper\n    return fn(*args, **kwargs)\n  File \"/usr/local/lib/python2.7/dist-packages/ipykernel/kernelbase.py\", line 283, in dispatcher\n    return self.dispatch_shell(stream, msg)\n  File \"/usr/local/lib/python2.7/dist-packages/ipykernel/kernelbase.py\", line 235, in dispatch_shell\n    handler(stream, idents, msg)\n  File \"/usr/local/lib/python2.7/dist-packages/ipykernel/kernelbase.py\", line 399, in execute_request\n    user_expressions, allow_stdin)\n  File \"/usr/local/lib/python2.7/dist-packages/ipykernel/ipkernel.py\", line 196, in do_execute\n    res = shell.run_cell(code, store_history=store_history, silent=silent)\n  File \"/usr/local/lib/python2.7/dist-packages/ipykernel/zmqshell.py\", line 533, in run_cell\n    return super(ZMQInteractiveShell, self).run_cell(*args, **kwargs)\n  File \"/usr/local/lib/python2.7/dist-packages/IPython/core/interactiveshell.py\", line 2717, in run_cell\n    interactivity=interactivity, compiler=compiler, result=result)\n  File \"/usr/local/lib/python2.7/dist-packages/IPython/core/interactiveshell.py\", line 2821, in run_ast_nodes\n    if self.run_code(code, result):\n  File \"/usr/local/lib/python2.7/dist-packages/IPython/core/interactiveshell.py\", line 2881, in run_code\n    exec(code_obj, self.user_global_ns, self.user_ns)\n  File \"<ipython-input-6-b6b91455c4d3>\", line 4, in <module>\n    model = get_model()\n  File \"<ipython-input-5-071ad864e3c0>\", line 12, in get_model\n    img_1 = Conv2D(16, kernel_size = (3,3), activation=p_activation) (img_1)\n  File \"/usr/local/lib/python2.7/dist-packages/keras/engine/topology.py\", line 596, in __call__\n    output = self.call(inputs, **kwargs)\n  File \"/usr/local/lib/python2.7/dist-packages/keras/layers/convolutional.py\", line 164, in call\n    dilation_rate=self.dilation_rate)\n  File \"/usr/local/lib/python2.7/dist-packages/keras/backend/tensorflow_backend.py\", line 3138, in conv2d\n    data_format='NHWC')\n  File \"/opt/DL/tensorflow/lib/python2.7/site-packages/tensorflow/python/ops/nn_ops.py\", line 661, in convolution\n    op=op)\n  File \"/opt/DL/tensorflow/lib/python2.7/site-packages/tensorflow/python/ops/nn_ops.py\", line 331, in with_space_to_batch\n    return op(input, num_spatial_dims, padding)\n  File \"/opt/DL/tensorflow/lib/python2.7/site-packages/tensorflow/python/ops/nn_ops.py\", line 653, in op\n    name=name)\n  File \"/opt/DL/tensorflow/lib/python2.7/site-packages/tensorflow/python/ops/nn_ops.py\", line 129, in _non_atrous_convolution\n    name=name)\n  File \"/opt/DL/tensorflow/lib/python2.7/site-packages/tensorflow/python/ops/gen_nn_ops.py\", line 403, in conv2d\n    data_format=data_format, name=name)\n  File \"/opt/DL/tensorflow/lib/python2.7/site-packages/tensorflow/python/framework/op_def_library.py\", line 768, in apply_op\n    op_def=op_def)\n  File \"/opt/DL/tensorflow/lib/python2.7/site-packages/tensorflow/python/framework/ops.py\", line 2336, in create_op\n    original_op=self._default_original_op, op_def=op_def)\n  File \"/opt/DL/tensorflow/lib/python2.7/site-packages/tensorflow/python/framework/ops.py\", line 1228, in __init__\n    self._traceback = _extract_stack()\n\nResourceExhaustedError (see above for traceback): OOM when allocating tensor with shape[200,16,73,73]\n\t [[Node: conv2d_9/convolution = Conv2D[T=DT_FLOAT, data_format=\"NHWC\", padding=\"VALID\", strides=[1, 1, 1, 1], use_cudnn_on_gpu=true, _device=\"/job:localhost/replica:0/task:0/gpu:0\"](conv2d_8/Elu, conv2d_9/kernel/read)]]\n\t [[Node: batch_normalization_6/moments/sufficient_statistics/Gather/_119 = _Recv[client_terminated=false, recv_device=\"/job:localhost/replica:0/task:0/cpu:0\", send_device=\"/job:localhost/replica:0/task:0/gpu:0\", send_device_incarnation=1, tensor_name=\"edge_436_batch_normalization_6/moments/sufficient_statistics/Gather\", tensor_type=DT_FLOAT, _device=\"/job:localhost/replica:0/task:0/cpu:0\"]()]]\n"
     ]
    }
   ],
   "source": [
    "model.load_weights(filepath=file_path)\n",
    "\n",
    "print(\"Train evaluate:\")\n",
    "acc1 = model.evaluate([X_train], y_train, verbose=0, batch_size=200)\n",
    "print(acc1)\n",
    "print(\"-------------------------------\")\n",
    "print(\"Watch list evaluate:\")\n",
    "acc2 = model.evaluate([X_valid], y_valid, verbose=0, batch_size=200)\n",
    "print (acc2)\n",
    "\n",
    "str1 = ('Training acc: {}\\n'.format(acc1))\n",
    "str2 = ('Validation acc: {}\\n'.format(acc2))\n",
    "out_file = './CNN-' + mode + '-results.txt'\n",
    "with open(out_file, 'a') as myfile:\n",
    "    myfile.write(str1)\n",
    "    myfile.write(str2)\n",
    "    \n",
    "myfile.close()"
   ]
  },
  {
   "cell_type": "code",
   "execution_count": null,
   "metadata": {
    "_cell_guid": "78dbcf6c-a7ba-49c7-a459-20bed13a2219",
    "_uuid": "df1410c2fb4d4f124ba89602b3f669de7018728a"
   },
   "outputs": [],
   "source": [
    "prediction = model.predict([X_test], verbose=1, batch_size=200)"
   ]
  },
  {
   "cell_type": "code",
   "execution_count": null,
   "metadata": {},
   "outputs": [],
   "source": [
    "print prediction.shape"
   ]
  },
  {
   "cell_type": "code",
   "execution_count": null,
   "metadata": {
    "_cell_guid": "52766228-cf82-4cc8-9671-d8391d294bbb",
    "_uuid": "a656b27ff563fd4e69c43393280b9227e44aac74"
   },
   "outputs": [],
   "source": [
    "submission = pd.DataFrame({'id': test[\"id\"], 'is_iceberg': prediction.reshape((prediction.shape[0]))})\n",
    "submission.head(10)"
   ]
  },
  {
   "cell_type": "code",
   "execution_count": null,
   "metadata": {
    "_cell_guid": "da4a9987-2589-48b3-bfd1-5e2076f74f0c",
    "_uuid": "53646935d88ffa854e33aeb583c6d5c475e9380b",
    "collapsed": true
   },
   "outputs": [],
   "source": [
    "output_file = './CNN-' + mode + '-submission.csv'\n",
    "submission.to_csv(output_file, index=False)"
   ]
  },
  {
   "cell_type": "code",
   "execution_count": null,
   "metadata": {
    "collapsed": true
   },
   "outputs": [],
   "source": []
  }
 ],
 "metadata": {
  "kernelspec": {
   "display_name": "Python 2",
   "language": "python",
   "name": "python2"
  },
  "language_info": {
   "codemirror_mode": {
    "name": "ipython",
    "version": 2
   },
   "file_extension": ".py",
   "mimetype": "text/x-python",
   "name": "python",
   "nbconvert_exporter": "python",
   "pygments_lexer": "ipython2",
   "version": "2.7.12"
  }
 },
 "nbformat": 4,
 "nbformat_minor": 1
}
